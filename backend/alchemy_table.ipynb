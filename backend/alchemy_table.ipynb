{
 "cells": [
  {
   "cell_type": "code",
   "execution_count": 1,
   "id": "e02670c3",
   "metadata": {},
   "outputs": [
    {
     "data": {
      "text/plain": [
       "['.env',\n",
       " '.env.example',\n",
       " 'activate_venv',\n",
       " 'alchemy_table.ipynb',\n",
       " 'metadata',\n",
       " 'requirements.txt',\n",
       " 'runscript',\n",
       " 'scripts',\n",
       " 'serve',\n",
       " 'venv',\n",
       " '__init__.py']"
      ]
     },
     "execution_count": 1,
     "metadata": {},
     "output_type": "execute_result"
    }
   ],
   "source": [
    "import os\n",
    "from PIL import Image\n",
    "\n",
    "input_dir = \"images/\"\n",
    "output_dir = \"downscaled/\"\n",
    "\n",
    "SCALE = 0.3\n",
    "# gems are smaller\n",
    "GEM_SCALE = 0.1\n",
    "\n",
    "os.listdir('.')\n",
    "\n",
    "# for filename in os.listdir(input_dir):\n",
    "#     print(filename)\n",
    "#     if filename.lower().endswith((\".png\")):\n",
    "#         scale = SCALE\n",
    "\n",
    "#         img = Image.open(os.path.join(input_dir, filename))\n",
    "#         new_size = (int(img.width * scale), int(img.height * scale))\n",
    "#         resized = img.resize(new_size, Image.Resampling.LANCZOS)\n",
    "#         resized.save(os.path.join(output_dir, filename))\n",
    "\n",
    "#         print(f\"✔️ {filename} downscaled by {scale}\")\n",
    "\n",
    "# print(\"✅ All images downscaled successfully.\")\n"
   ]
  }
 ],
 "metadata": {
  "kernelspec": {
   "display_name": "Python 3",
   "language": "python",
   "name": "python3"
  },
  "language_info": {
   "codemirror_mode": {
    "name": "ipython",
    "version": 3
   },
   "file_extension": ".py",
   "mimetype": "text/x-python",
   "name": "python",
   "nbconvert_exporter": "python",
   "pygments_lexer": "ipython3",
   "version": "3.14.0"
  }
 },
 "nbformat": 4,
 "nbformat_minor": 5
}
