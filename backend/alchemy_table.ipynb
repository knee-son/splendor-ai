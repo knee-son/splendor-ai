{
 "cells": [
  {
   "cell_type": "code",
   "execution_count": null,
   "id": "e02670c3",
   "metadata": {},
   "outputs": [],
   "source": [
    "import json\n",
    "import pandas\n",
    "\n",
    "with open('metadata/cards_minified.json', 'r') as f:\n",
    "    o = json.load(f)\n",
    "\n",
    "df = pandas.DataFrame(o)"
   ]
  },
  {
   "cell_type": "code",
   "execution_count": null,
   "id": "d9b61927",
   "metadata": {},
   "outputs": [],
   "source": [
    "df = pandas.DataFrame(o)\n",
    "\n",
    "arr    = ['onyx', 'sapphire', 'emerald', 'ruby', 'diamond']\n",
    "sorted = ['diamond', 'sapphire', 'emerald', 'ruby', 'onyx']\n",
    "costs  = ['onyx', 'diamond', 'ruby', 'sapphire', 'emerald']\n",
    "\n",
    "df = df.rename(columns={\n",
    "    \"bonus\": \"engine\",\n",
    "    \"points\": \"prestige\",\n",
    "})\n",
    "\n",
    "# from number to name\n",
    "df['engine'] = [arr[i] for i in df['engine']]\n",
    "\n",
    "# sort 'engine' by doing magic jack shit\n",
    "from functools import reduce\n",
    "\n",
    "disassembled = [df[df['engine']==gem] for gem in sorted]\n",
    "assembled = reduce(lambda a, b: pandas.concat([a, b], ignore_index=True), disassembled)\n",
    "\n",
    "df = assembled\n",
    "\n",
    "# sort by tier afterwards\n",
    "df.sort_values(by=[\"tier\"], inplace=True)\n",
    "\n",
    "# mutate 'cost' col\n",
    "costs_col = df['cost']\n",
    "costs_col = [{costs[i]: cost_row[i] for i in range(5)} for cost_row in costs_col]\n",
    "df['cost'] = costs_col\n",
    "\n",
    "display(df)"
   ]
  },
  {
   "cell_type": "code",
   "execution_count": null,
   "id": "60942fe5",
   "metadata": {},
   "outputs": [],
   "source": [
    "json_str = df.to_json(orient=\"records\")\n",
    "\n",
    "parsed = json.loads(json_str)\n",
    "pretty = json.dumps(parsed, indent=4)\n",
    "\n",
    "with open(\"cards.json\", \"w\") as f:\n",
    "    f.write(pretty)"
   ]
  }
 ],
 "metadata": {
  "kernelspec": {
   "display_name": "venv",
   "language": "python",
   "name": "python3"
  },
  "language_info": {
   "codemirror_mode": {
    "name": "ipython",
    "version": 3
   },
   "file_extension": ".py",
   "mimetype": "text/x-python",
   "name": "python",
   "nbconvert_exporter": "python",
   "pygments_lexer": "ipython3",
   "version": "3.14.0"
  }
 },
 "nbformat": 4,
 "nbformat_minor": 5
}
